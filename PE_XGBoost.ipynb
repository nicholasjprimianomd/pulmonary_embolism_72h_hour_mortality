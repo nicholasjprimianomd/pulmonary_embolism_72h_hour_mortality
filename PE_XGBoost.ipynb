{
 "cells": [
  {
   "cell_type": "code",
   "execution_count": 17,
   "metadata": {},
   "outputs": [],
   "source": [
    "import pandas as pd\n",
    "import numpy as np\n",
    "import matplotlib.pyplot as plt\n",
    "from sklearn.model_selection import StratifiedKFold, GridSearchCV, train_test_split, KFold\n",
    "from sklearn.preprocessing import StandardScaler\n",
    "from sklearn.metrics import classification_report, accuracy_score, precision_score, recall_score, f1_score, confusion_matrix, mean_squared_error, mean_absolute_error, r2_score\n",
    "from xgboost import XGBClassifier, XGBRegressor\n",
    "from sklearn.linear_model import LinearRegression\n",
    "from sklearn.neural_network import MLPRegressor"
   ]
  },
  {
   "cell_type": "code",
   "execution_count": 18,
   "metadata": {},
   "outputs": [],
   "source": [
    "# Load the dataset\n",
    "file_path = r\"C:\\Users\\nprim\\Desktop\\PE_files\\merged_results_v2.xlsx\"\n",
    "data = pd.read_excel(file_path)"
   ]
  },
  {
   "cell_type": "code",
   "execution_count": 19,
   "metadata": {},
   "outputs": [
    {
     "name": "stdout",
     "output_type": "stream",
     "text": [
      "Length of data_selected (number of data points for which we have pre/post PAP and max_cath_size): 55\n",
      "Proportion of each max_cath_size:\n",
      "max_cath_size (F)\n",
      "24.0    0.709091\n",
      "16.0    0.127273\n",
      "20.0    0.054545\n",
      "8.0     0.018182\n",
      "22.0    0.018182\n",
      "18.0    0.018182\n",
      "26.0    0.018182\n",
      "12.0    0.018182\n",
      "14.0    0.018182\n",
      "Name: proportion, dtype: float64\n",
      "Correlation between max_cath_size and pressure_difference: 0.1488\n"
     ]
    }
   ],
   "source": [
    "selected_columns = ['max_cath_size (F)', 'mean Pre-PA pressure (mmHg)', 'Post-PA pressure (mmHg)']\n",
    "data_selected = data[selected_columns]\n",
    "\n",
    "# Drop rows with any missing values\n",
    "data_selected = data_selected.dropna()\n",
    "print(\"Length of data_selected (number of data points for which we have pre/post PAP and max_cath_size):\", len(data_selected))\n",
    "# Calculate pressure difference\n",
    "data_selected['pressure_difference'] = data_selected['mean Pre-PA pressure (mmHg)'] - data_selected['Post-PA pressure (mmHg)']\n",
    "\n",
    "# Compute the correlation\n",
    "correlation = data_selected['max_cath_size (F)'].astype(float).corr(data_selected['pressure_difference'].astype(float))\n",
    "\n",
    "# Calculate the proportion of each max_cath_size\n",
    "max_cath_size_proportion = data_selected['max_cath_size (F)'].value_counts(normalize=True)\n",
    "print(\"Proportion of each max_cath_size:\")\n",
    "print(max_cath_size_proportion)\n",
    "\n",
    "print(f\"Correlation between max_cath_size and pressure_difference: {correlation:.4f}\")\n"
   ]
  },
  {
   "cell_type": "code",
   "execution_count": 20,
   "metadata": {},
   "outputs": [],
   "source": [
    "selected_columns = ['age', 'sex (F=0/M=1)', 'rvlv_ratio']\n",
    "data_selected = data[selected_columns]"
   ]
  },
  {
   "cell_type": "code",
   "execution_count": 21,
   "metadata": {},
   "outputs": [
    {
     "data": {
      "text/html": [
       "<div>\n",
       "<style scoped>\n",
       "    .dataframe tbody tr th:only-of-type {\n",
       "        vertical-align: middle;\n",
       "    }\n",
       "\n",
       "    .dataframe tbody tr th {\n",
       "        vertical-align: top;\n",
       "    }\n",
       "\n",
       "    .dataframe thead th {\n",
       "        text-align: right;\n",
       "    }\n",
       "</style>\n",
       "<table border=\"1\" class=\"dataframe\">\n",
       "  <thead>\n",
       "    <tr style=\"text-align: right;\">\n",
       "      <th></th>\n",
       "      <th>age</th>\n",
       "      <th>sex (F=0/M=1)</th>\n",
       "      <th>rvlv_ratio</th>\n",
       "    </tr>\n",
       "  </thead>\n",
       "  <tbody>\n",
       "    <tr>\n",
       "      <th>0</th>\n",
       "      <td>NaN</td>\n",
       "      <td>NaN</td>\n",
       "      <td>NaN</td>\n",
       "    </tr>\n",
       "    <tr>\n",
       "      <th>1</th>\n",
       "      <td>57.0</td>\n",
       "      <td>0.0</td>\n",
       "      <td>1.644326</td>\n",
       "    </tr>\n",
       "    <tr>\n",
       "      <th>2</th>\n",
       "      <td>39.0</td>\n",
       "      <td>0.0</td>\n",
       "      <td>NaN</td>\n",
       "    </tr>\n",
       "    <tr>\n",
       "      <th>3</th>\n",
       "      <td>63.0</td>\n",
       "      <td>1.0</td>\n",
       "      <td>1.354271</td>\n",
       "    </tr>\n",
       "    <tr>\n",
       "      <th>4</th>\n",
       "      <td>67.0</td>\n",
       "      <td>1.0</td>\n",
       "      <td>NaN</td>\n",
       "    </tr>\n",
       "    <tr>\n",
       "      <th>...</th>\n",
       "      <td>...</td>\n",
       "      <td>...</td>\n",
       "      <td>...</td>\n",
       "    </tr>\n",
       "    <tr>\n",
       "      <th>183</th>\n",
       "      <td>NaN</td>\n",
       "      <td>NaN</td>\n",
       "      <td>NaN</td>\n",
       "    </tr>\n",
       "    <tr>\n",
       "      <th>184</th>\n",
       "      <td>NaN</td>\n",
       "      <td>NaN</td>\n",
       "      <td>NaN</td>\n",
       "    </tr>\n",
       "    <tr>\n",
       "      <th>185</th>\n",
       "      <td>64.0</td>\n",
       "      <td>0.0</td>\n",
       "      <td>1.969127</td>\n",
       "    </tr>\n",
       "    <tr>\n",
       "      <th>186</th>\n",
       "      <td>73.0</td>\n",
       "      <td>1.0</td>\n",
       "      <td>NaN</td>\n",
       "    </tr>\n",
       "    <tr>\n",
       "      <th>187</th>\n",
       "      <td>20.0</td>\n",
       "      <td>0.0</td>\n",
       "      <td>0.891061</td>\n",
       "    </tr>\n",
       "  </tbody>\n",
       "</table>\n",
       "<p>188 rows × 3 columns</p>\n",
       "</div>"
      ],
      "text/plain": [
       "      age  sex (F=0/M=1)  rvlv_ratio\n",
       "0     NaN            NaN         NaN\n",
       "1    57.0            0.0    1.644326\n",
       "2    39.0            0.0         NaN\n",
       "3    63.0            1.0    1.354271\n",
       "4    67.0            1.0         NaN\n",
       "..    ...            ...         ...\n",
       "183   NaN            NaN         NaN\n",
       "184   NaN            NaN         NaN\n",
       "185  64.0            0.0    1.969127\n",
       "186  73.0            1.0         NaN\n",
       "187  20.0            0.0    0.891061\n",
       "\n",
       "[188 rows x 3 columns]"
      ]
     },
     "execution_count": 21,
     "metadata": {},
     "output_type": "execute_result"
    }
   ],
   "source": [
    "data_selected"
   ]
  },
  {
   "cell_type": "code",
   "execution_count": 22,
   "metadata": {},
   "outputs": [],
   "source": [
    "# Drop rows with any empty cells in either X or y\n",
    "data_selected = data[selected_columns + ['mean Pre-PA pressure (mmHg)']].dropna()\n",
    "\n",
    "# Separate features (X) and target (y) after dropping rows with NaNs\n",
    "X = data_selected[selected_columns]\n",
    "y = data_selected['mean Pre-PA pressure (mmHg)']"
   ]
  },
  {
   "cell_type": "code",
   "execution_count": 23,
   "metadata": {},
   "outputs": [
    {
     "data": {
      "text/html": [
       "<div>\n",
       "<style scoped>\n",
       "    .dataframe tbody tr th:only-of-type {\n",
       "        vertical-align: middle;\n",
       "    }\n",
       "\n",
       "    .dataframe tbody tr th {\n",
       "        vertical-align: top;\n",
       "    }\n",
       "\n",
       "    .dataframe thead th {\n",
       "        text-align: right;\n",
       "    }\n",
       "</style>\n",
       "<table border=\"1\" class=\"dataframe\">\n",
       "  <thead>\n",
       "    <tr style=\"text-align: right;\">\n",
       "      <th></th>\n",
       "      <th>age</th>\n",
       "      <th>sex (F=0/M=1)</th>\n",
       "      <th>rvlv_ratio</th>\n",
       "    </tr>\n",
       "  </thead>\n",
       "  <tbody>\n",
       "    <tr>\n",
       "      <th>1</th>\n",
       "      <td>57.0</td>\n",
       "      <td>0.0</td>\n",
       "      <td>1.644326</td>\n",
       "    </tr>\n",
       "    <tr>\n",
       "      <th>3</th>\n",
       "      <td>63.0</td>\n",
       "      <td>1.0</td>\n",
       "      <td>1.354271</td>\n",
       "    </tr>\n",
       "    <tr>\n",
       "      <th>5</th>\n",
       "      <td>59.0</td>\n",
       "      <td>1.0</td>\n",
       "      <td>1.931655</td>\n",
       "    </tr>\n",
       "    <tr>\n",
       "      <th>9</th>\n",
       "      <td>73.0</td>\n",
       "      <td>0.0</td>\n",
       "      <td>1.495050</td>\n",
       "    </tr>\n",
       "    <tr>\n",
       "      <th>10</th>\n",
       "      <td>71.0</td>\n",
       "      <td>0.0</td>\n",
       "      <td>1.149083</td>\n",
       "    </tr>\n",
       "  </tbody>\n",
       "</table>\n",
       "</div>"
      ],
      "text/plain": [
       "     age  sex (F=0/M=1)  rvlv_ratio\n",
       "1   57.0            0.0    1.644326\n",
       "3   63.0            1.0    1.354271\n",
       "5   59.0            1.0    1.931655\n",
       "9   73.0            0.0    1.495050\n",
       "10  71.0            0.0    1.149083"
      ]
     },
     "execution_count": 23,
     "metadata": {},
     "output_type": "execute_result"
    }
   ],
   "source": [
    "X.head()"
   ]
  },
  {
   "cell_type": "code",
   "execution_count": 24,
   "metadata": {},
   "outputs": [
    {
     "data": {
      "text/plain": [
       "1     27.5\n",
       "3     19.5\n",
       "5     27.5\n",
       "9     29.5\n",
       "10    26.0\n",
       "Name: mean Pre-PA pressure (mmHg), dtype: float64"
      ]
     },
     "execution_count": 24,
     "metadata": {},
     "output_type": "execute_result"
    }
   ],
   "source": [
    "y.head()"
   ]
  },
  {
   "cell_type": "code",
   "execution_count": 25,
   "metadata": {},
   "outputs": [
    {
     "data": {
      "text/plain": [
       "61"
      ]
     },
     "execution_count": 25,
     "metadata": {},
     "output_type": "execute_result"
    }
   ],
   "source": [
    "len(y)"
   ]
  },
  {
   "cell_type": "code",
   "execution_count": 26,
   "metadata": {},
   "outputs": [
    {
     "name": "stdout",
     "output_type": "stream",
     "text": [
      "\n",
      "Held-Out Test Set Metrics:\n",
      "Mean Squared Error (MSE): 39.4701\n",
      "Mean Absolute Error (MAE): 4.8622\n",
      "R^2 Score: -0.1397\n",
      "\n",
      "Model Coefficients:\n",
      "         Feature  Coefficient\n",
      "0            age    -0.870853\n",
      "1  sex (F=0/M=1)    -0.796289\n",
      "2     rvlv_ratio     2.266886\n",
      "Intercept: 28.0312\n"
     ]
    }
   ],
   "source": [
    "\n",
    "# Assuming 'X' and 'y' are already defined from your dataset\n",
    "\n",
    "# Split into training and held-out test sets (80% train, 20% test)\n",
    "X_train, X_test, y_train, y_test = train_test_split(X, y, test_size=0.2, random_state=42)\n",
    "\n",
    "# Handle missing values by filling with the median of each column in the training set\n",
    "# Uncomment and adjust the code below if you have missing values\n",
    "# X_train = X_train.fillna(X_train.median())\n",
    "# X_test = X_test.fillna(X_train.median())  # Use median from training set to prevent data leakage\n",
    "\n",
    "# Scale the feature values (fit on training data, apply to both train and test sets)\n",
    "scaler = StandardScaler()\n",
    "X_train_scaled = scaler.fit_transform(X_train)\n",
    "X_test_scaled = scaler.transform(X_test)\n",
    "\n",
    "# Initialize the LinearRegression model\n",
    "linear_model = LinearRegression()\n",
    "\n",
    "# Fit the model on the training set\n",
    "linear_model.fit(X_train_scaled, y_train)\n",
    "\n",
    "# Make predictions on the held-out test set\n",
    "y_test_pred = linear_model.predict(X_test_scaled)\n",
    "\n",
    "# Calculate metrics for the test set\n",
    "mse_test = mean_squared_error(y_test, y_test_pred)\n",
    "mae_test = mean_absolute_error(y_test, y_test_pred)\n",
    "r2_test = r2_score(y_test, y_test_pred)\n",
    "\n",
    "# Print metrics for the test set\n",
    "print(f\"\\nHeld-Out Test Set Metrics:\")\n",
    "print(f\"Mean Squared Error (MSE): {mse_test:.4f}\")\n",
    "print(f\"Mean Absolute Error (MAE): {mae_test:.4f}\")\n",
    "print(f\"R^2 Score: {r2_test:.4f}\")\n",
    "\n",
    "# Optional: Print model coefficients\n",
    "feature_names = X.columns if isinstance(X, pd.DataFrame) else [f'Feature {i}' for i in range(X.shape[1])]\n",
    "coefficients = linear_model.coef_\n",
    "intercept = linear_model.intercept_\n",
    "coef_df = pd.DataFrame({'Feature': feature_names, 'Coefficient': coefficients})\n",
    "print(\"\\nModel Coefficients:\")\n",
    "print(coef_df)\n",
    "print(f\"Intercept: {intercept:.4f}\")\n"
   ]
  },
  {
   "cell_type": "code",
   "execution_count": 27,
   "metadata": {},
   "outputs": [
    {
     "name": "stderr",
     "output_type": "stream",
     "text": [
      "C:\\Users\\nprim\\AppData\\Local\\Packages\\PythonSoftwareFoundation.Python.3.11_qbz5n2kfra8p0\\LocalCache\\local-packages\\Python311\\site-packages\\sklearn\\base.py:493: UserWarning: X does not have valid feature names, but LinearRegression was fitted with feature names\n",
      "  warnings.warn(\n"
     ]
    },
    {
     "data": {
      "image/png": "[encoded data removed]",
      "text/plain": [
       "<Figure size 800x600 with 1 Axes>"
      ]
     },
     "metadata": {},
     "output_type": "display_data"
    }
   ],
   "source": [
    "\n",
    "# Assuming 'X' and 'y' are already defined from your dataset\n",
    "\n",
    "# Select the predictor variable you want to plot against the target\n",
    "X_single = X[['rvlv_ratio']]  # Replace 'rvlv_ratio' with the predictor of interest\n",
    "y = y  # Target variable\n",
    "\n",
    "# Split into training and test sets\n",
    "X_train_single, X_test_single, y_train_single, y_test_single = train_test_split(X_single, y, test_size=0.2, random_state=42)\n",
    "\n",
    "# Fit the simple linear regression model\n",
    "linear_model_single = LinearRegression()\n",
    "linear_model_single.fit(X_train_single, y_train_single)\n",
    "\n",
    "# Generate predictions for plotting the regression line\n",
    "X_plot = np.linspace(X_single.values.min(), X_single.values.max(), 100).reshape(-1, 1)\n",
    "y_plot = linear_model_single.predict(X_plot)\n",
    "\n",
    "# Plot the scatter plot and the regression line\n",
    "plt.figure(figsize=(8, 6))\n",
    "plt.scatter(X_single, y, color='blue', alpha=0.5)\n",
    "plt.plot(X_plot, y_plot, color='red', linewidth=2, label='Regression Line')\n",
    "plt.xlabel('RV/LV Ratio')\n",
    "plt.ylabel('Pulmonary Artery Pressure')\n",
    "plt.title('Linear Regression of Pulmonary Artery Pressure vs RV/LV Ratio')\n",
    "plt.legend()\n",
    "plt.show()\n"
   ]
  },
  {
   "cell_type": "code",
   "execution_count": 28,
   "metadata": {},
   "outputs": [
    {
     "name": "stdout",
     "output_type": "stream",
     "text": [
      "Fitting 5 folds for each of 2187 candidates, totalling 10935 fits\n",
      "Best Parameters: {'colsample_bytree': 0.3, 'learning_rate': 0.01, 'max_depth': 6, 'n_estimators': 100, 'reg_alpha': 1, 'reg_lambda': 0.1, 'subsample': 1}\n",
      "Best Mean Squared Error on Training Set: 55.3860\n",
      "\n",
      "Held-Out Test Set Metrics:\n",
      "Mean Squared Error (MSE): 41.7969\n",
      "Mean Absolute Error (MAE): 5.3172\n",
      "R^2 Score: -0.2068\n"
     ]
    }
   ],
   "source": [
    "# Split into training and held-out test sets (80% train, 20% test)\n",
    "X_train, X_test, y_train, y_test = train_test_split(X, y, test_size=0.2, random_state=42)\n",
    "\n",
    "# Handle missing values by filling with the median of each column in the training set\n",
    "#X_train.fillna(X_train.median(), inplace=True)\n",
    "#X_test.fillna(X_train.median(), inplace=True)  # Use median from training set to prevent data leakage\n",
    "\n",
    "# Scale the feature values (fit on training data, apply to both train and test sets)\n",
    "scaler = StandardScaler()\n",
    "X_train_scaled = scaler.fit_transform(X_train)\n",
    "X_test_scaled = scaler.transform(X_test)\n",
    "\n",
    "# Define parameter grid for hyperparameter tuning\n",
    "param_grid = {\n",
    "    'n_estimators': [50, 100, 200],\n",
    "    'max_depth': [3, 4, 6],\n",
    "    'learning_rate': [0.01, 0.1, 0.2],\n",
    "    'colsample_bytree': [0.3, 0.7, 1],\n",
    "    'subsample': [0.5, 0.7, 1],\n",
    "    'reg_alpha': [0, 0.1, 1],\n",
    "    'reg_lambda': [1, 0.5, 0.1]\n",
    "}\n",
    "\n",
    "# Initialize the XGBoost regressor\n",
    "xgb_model = XGBRegressor(random_state=42)\n",
    "\n",
    "# Use KFold cross-validation for regression tasks\n",
    "cv = KFold(n_splits=5, shuffle=True, random_state=42)\n",
    "\n",
    "# Use GridSearchCV for hyperparameter tuning on the training set\n",
    "grid_search = GridSearchCV(\n",
    "    estimator=xgb_model,\n",
    "    param_grid=param_grid,\n",
    "    cv=cv,\n",
    "    scoring='neg_mean_squared_error',\n",
    "    verbose=1,\n",
    "    n_jobs=-1\n",
    ")\n",
    "\n",
    "# Fit the model using GridSearchCV on the training set\n",
    "grid_search.fit(X_train_scaled, y_train)\n",
    "\n",
    "# Print the best parameters and the best score from GridSearchCV\n",
    "best_mse = -grid_search.best_score_\n",
    "print(f\"Best Parameters: {grid_search.best_params_}\")\n",
    "print(f\"Best Mean Squared Error on Training Set: {best_mse:.4f}\")\n",
    "\n",
    "# Train the final model with best parameters on the entire training set\n",
    "best_xgb_model = XGBRegressor(**grid_search.best_params_, random_state=42)\n",
    "best_xgb_model.fit(X_train_scaled, y_train)\n",
    "\n",
    "# Make predictions on the held-out test set\n",
    "y_test_pred = best_xgb_model.predict(X_test_scaled)\n",
    "\n",
    "# Calculate metrics for the test set\n",
    "mse_test = mean_squared_error(y_test, y_test_pred)\n",
    "mae_test = mean_absolute_error(y_test, y_test_pred)\n",
    "r2_test = r2_score(y_test, y_test_pred)\n",
    "\n",
    "# Print metrics for the test set\n",
    "print(f\"\\nHeld-Out Test Set Metrics:\")\n",
    "print(f\"Mean Squared Error (MSE): {mse_test:.4f}\")\n",
    "print(f\"Mean Absolute Error (MAE): {mae_test:.4f}\")\n",
    "print(f\"R^2 Score: {r2_test:.4f}\")\n"
   ]
  },
  {
   "cell_type": "code",
   "execution_count": 29,
   "metadata": {},
   "outputs": [
    {
     "name": "stdout",
     "output_type": "stream",
     "text": [
      "Fitting 5 folds for each of 324 candidates, totalling 1620 fits\n",
      "Best Parameters: {'activation': 'tanh', 'alpha': 0.01, 'early_stopping': True, 'hidden_layer_sizes': (100, 100, 50), 'learning_rate': 'constant', 'learning_rate_init': 0.01, 'max_iter': 200, 'solver': 'adam'}\n",
      "Best Mean Squared Error on Training Set: 59.0667\n",
      "\n",
      "Held-Out Test Set Metrics:\n",
      "Mean Squared Error (MSE): 34.7478\n",
      "Mean Absolute Error (MAE): 5.2402\n"
     ]
    }
   ],
   "source": [
    "\n",
    "\n",
    "# Assuming 'X' and 'y' are already defined from your dataset\n",
    "\n",
    "# Split into training and held-out test sets (80% train, 20% test)\n",
    "X_train, X_test, y_train, y_test = train_test_split(X, y, test_size=0.2, random_state=42)\n",
    "\n",
    "# Handle missing values by filling with the median of each column in the training set\n",
    "# X_train.fillna(X_train.median(), inplace=True)\n",
    "# X_test.fillna(X_train.median(), inplace=True)  # Use median from training set to prevent data leakage\n",
    "\n",
    "# Scale the feature values (fit on training data, apply to both train and test sets)\n",
    "scaler = StandardScaler()\n",
    "X_train_scaled = scaler.fit_transform(X_train)\n",
    "X_test_scaled = scaler.transform(X_test)\n",
    "\n",
    "# Adjusted hyperparameter grid\n",
    "param_grid = {\n",
    "    'hidden_layer_sizes': [(50,), (100,), (100, 100, 50)],\n",
    "    'activation': ['relu', 'tanh', 'logistic'],\n",
    "    'solver': ['adam'],\n",
    "    'alpha': [0.0001, 0.001, 0.01],\n",
    "    'learning_rate': ['constant', 'adaptive'],\n",
    "    'learning_rate_init': [0.001, 0.01, 0.1],\n",
    "    'max_iter': [200, 500],\n",
    "    'early_stopping': [True],\n",
    "}\n",
    "\n",
    "# Re-initialize the MLP regressor with a higher max_iter\n",
    "mlp_model = MLPRegressor(random_state=42, max_iter=1000)\n",
    "\n",
    "# Re-run GridSearchCV with the adjusted parameters\n",
    "grid_search = GridSearchCV(\n",
    "    estimator=mlp_model,\n",
    "    param_grid=param_grid,\n",
    "    cv=cv,\n",
    "    scoring='neg_mean_squared_error',\n",
    "    verbose=1,\n",
    "    n_jobs=-1\n",
    ")\n",
    "\n",
    "# Fit the model\n",
    "grid_search.fit(X_train_scaled, y_train)\n",
    "\n",
    "# Print the best parameters and the best score from GridSearchCV\n",
    "best_mse = -grid_search.best_score_\n",
    "print(f\"Best Parameters: {grid_search.best_params_}\")\n",
    "print(f\"Best Mean Squared Error on Training Set: {best_mse:.4f}\")\n",
    "\n",
    "# Train the final model with best parameters on the entire training set\n",
    "best_mlp_model = MLPRegressor(**grid_search.best_params_, random_state=42)\n",
    "best_mlp_model.fit(X_train_scaled, y_train)\n",
    "\n",
    "# Make predictions on the held-out test set\n",
    "y_test_pred = best_mlp_model.predict(X_test_scaled)\n",
    "\n",
    "# Calculate metrics for the test set\n",
    "mse_test = mean_squared_error(y_test, y_test_pred)\n",
    "mae_test = mean_absolute_error(y_test, y_test_pred)\n",
    "\n",
    "# Print metrics for the test set\n",
    "print(f\"\\nHeld-Out Test Set Metrics:\")\n",
    "print(f\"Mean Squared Error (MSE): {mse_test:.4f}\")\n",
    "print(f\"Mean Absolute Error (MAE): {mae_test:.4f}\")\n"
   ]
  },
  {
   "cell_type": "code",
   "execution_count": 30,
   "metadata": {},
   "outputs": [
    {
     "name": "stdout",
     "output_type": "stream",
     "text": [
      "Correlation between RV/LV Ratio and Pre-PA Pressure: 0.2636\n"
     ]
    }
   ],
   "source": [
    "correlation = X[\"rvlv_ratio\"].corr(y)\n",
    "print(f\"Correlation between RV/LV Ratio and Pre-PA Pressure: {correlation:.4f}\")"
   ]
  },
  {
   "cell_type": "code",
   "execution_count": 31,
   "metadata": {},
   "outputs": [
    {
     "data": {
      "image/png": "[encoded data removed]",
      "text/plain": [
       "<Figure size 1000x800 with 1 Axes>"
      ]
     },
     "metadata": {},
     "output_type": "display_data"
    },
    {
     "data": {
      "image/png": "[encoded data removed]",
      "text/plain": [
       "<Figure size 1000x800 with 1 Axes>"
      ]
     },
     "metadata": {},
     "output_type": "display_data"
    },
    {
     "data": {
      "image/png": "[encoded data removed]",
      "text/plain": [
       "<Figure size 1000x800 with 1 Axes>"
      ]
     },
     "metadata": {},
     "output_type": "display_data"
    }
   ],
   "source": [
    "\n",
    "\n",
    "# Extract the feature importances for each type (weight, gain, cover)\n",
    "importance_types = ['weight', 'gain', 'cover']\n",
    "feature_names = np.array(X.columns)\n",
    "\n",
    "for importance_type in importance_types:\n",
    "    # Get the importance values\n",
    "    importances = best_xgb_model.get_booster().get_score(importance_type=importance_type)\n",
    "\n",
    "    # Convert to a sorted list (sorted by importance)\n",
    "    sorted_importances = sorted(importances.items(), key=lambda x: x[1], reverse=True)\n",
    "    \n",
    "    # Extract up to the top 10 features\n",
    "    top_features = sorted_importances[:10]\n",
    "    feature_labels = [feature_names[int(f[1:].replace('f', ''))] for f, v in top_features]\n",
    "    feature_values = [v for f, v in top_features]\n",
    "    \n",
    "    # Plot the top features by the current importance type\n",
    "    plt.figure(figsize=(10, 8))\n",
    "    plt.barh(feature_labels, feature_values)\n",
    "    plt.xlabel(f\"Feature Importance ({importance_type.capitalize()})\")\n",
    "    plt.title(f\"Top Features by {importance_type.capitalize()}\")\n",
    "    plt.gca().invert_yaxis()  # Invert y-axis for better readability\n",
    "    plt.show()\n"
   ]
  }
 ],
 "metadata": {
  "kernelspec": {
   "display_name": "base",
   "language": "python",
   "name": "python3"
  },
  "language_info": {
   "codemirror_mode": {
    "name": "ipython",
    "version": 3
   },
   "file_extension": ".py",
   "mimetype": "text/x-python",
   "name": "python",
   "nbconvert_exporter": "python",
   "pygments_lexer": "ipython3",
   "version": "3.11.9"
  }
 },
 "nbformat": 4,
 "nbformat_minor": 2
}
